{
 "cells": [
  {
   "cell_type": "code",
   "execution_count": 23,
   "metadata": {},
   "outputs": [],
   "source": [
    "#Adapted from https://r2rt.com/recurrent-neural-networks-in-tensorflow-i.html\n",
    "\n",
    "#INPUT\n",
    "#Random sequence of 0,1\n",
    "\n",
    "#OUTPUT\n",
    "#each index has a base probablity of 50% of being 1. If x(i-3) = 1, chances of 1 increases by 50%; but if x(i-8) = 1, it decreases by 25%\n",
    "\n",
    "\n",
    "#Generating dataset\n",
    "import numpy as np\n",
    "def generate_data(size):\n",
    "    X = np.random.choice(2,size)\n",
    "    Y = []\n",
    "    for i in range(size):\n",
    "        threshold = 0.5; #50%chances of being 1\n",
    "        if((i-3 >= 0) and X[i-3] == 1): #Since our rnn won't be seeing sequence in circular order so checking i-3\n",
    "            threshold += 0.5;\n",
    "        elif((i-8) >=0 and X[i-8] == 1):\n",
    "            threshold -= 0.25;\n",
    "        \n",
    "        Y.append(np.random.choice(2,1,p=[1 - threshold, threshold])[0]) #threshold being the chances of 1\n",
    "    return X, np.array(Y)"
   ]
  },
  {
   "cell_type": "code",
   "execution_count": null,
   "metadata": {},
   "outputs": [],
   "source": []
  }
 ],
 "metadata": {
  "kernelspec": {
   "display_name": "Python 2",
   "language": "python",
   "name": "python2"
  },
  "language_info": {
   "codemirror_mode": {
    "name": "ipython",
    "version": 2
   },
   "file_extension": ".py",
   "mimetype": "text/x-python",
   "name": "python",
   "nbconvert_exporter": "python",
   "pygments_lexer": "ipython2",
   "version": "2.7.15"
  }
 },
 "nbformat": 4,
 "nbformat_minor": 2
}
