{
 "cells": [
  {
   "cell_type": "code",
   "execution_count": 5,
   "metadata": {},
   "outputs": [],
   "source": [
    "#Adapted from https://r2rt.com/recurrent-neural-networks-in-tensorflow-i.html\n",
    "\n",
    "#INPUT\n",
    "#Random sequence of 0,1\n",
    "\n",
    "#OUTPUT\n",
    "#each index has a base probablity of 50% of being 1. If x(i-3) = 1, chances of 1 increases by 50%; but if x(i-8) = 1, it decreases by 25%\n",
    "\n",
    "\n",
    "#Generating dataset\n",
    "import numpy as np\n",
    "def generate_data(size):\n",
    "    X = np.random.choice(2,size)\n",
    "    Y = []\n",
    "    for i in range(size):\n",
    "        threshold = 0.5; #50%chances of being 1\n",
    "        if((i-3 >= 0) and X[i-3] == 1): #Since our rnn won't be seeing sequence in circular order so checking i-3\n",
    "            threshold += 0.5;\n",
    "        elif((i-8) >=0 and X[i-8] == 1):\n",
    "            threshold -= 0.25;\n",
    "        \n",
    "        Y.append(np.random.choice(2,1,p=[1 - threshold, threshold])[0]) #threshold being the chances of 1\n",
    "    return X, np.array(Y)"
   ]
  },
  {
   "cell_type": "code",
   "execution_count": 8,
   "metadata": {},
   "outputs": [],
   "source": [
    "import tensorflow as tf\n",
    "\n",
    "#Model\n",
    "#Page 396 RNN\n",
    "##Hyperparameters\n",
    "hidden_state_size = 4\n",
    "\n",
    "x,y = generate_data(100)\n",
    "x_one_hot = tf.one_hot(x, 2)\n",
    "rnn_inputs = tf.unstack(x_one_hot, axis=1)"
   ]
  },
  {
   "cell_type": "code",
   "execution_count": 27,
   "metadata": {},
   "outputs": [
    {
     "data": {
      "text/plain": [
       "<tf.Tensor 'Print_9:0' shape=(2, 100) dtype=float32>"
      ]
     },
     "execution_count": 27,
     "metadata": {},
     "output_type": "execute_result"
    }
   ],
   "source": [
    "tf.Print(rnn_inputs,[rnn_inputs], \"x\")"
   ]
  },
  {
   "cell_type": "code",
   "execution_count": 24,
   "metadata": {},
   "outputs": [
    {
     "data": {
      "text/plain": [
       "array([1, 1, 1, 1, 1, 1, 1, 0, 0, 1, 0, 1, 1, 0, 1, 0, 1, 1, 0, 1, 1, 1,\n",
       "       1, 0, 1, 1, 1, 1, 0, 1, 1, 1, 1, 1, 0, 1, 0, 1, 0, 0, 1, 0, 1, 0,\n",
       "       0, 0, 0, 1, 0, 1, 0, 1, 1, 1, 0, 1, 1, 0, 1, 0, 1, 0, 1, 0, 0, 0,\n",
       "       1, 0, 0, 1, 1, 1, 0, 1, 0, 0, 1, 1, 0, 1, 0, 1, 0, 0, 0, 1, 1, 0,\n",
       "       0, 1, 0, 0, 0, 1, 0, 0, 1, 0, 0, 1])"
      ]
     },
     "execution_count": 24,
     "metadata": {},
     "output_type": "execute_result"
    }
   ],
   "source": [
    "x"
   ]
  },
  {
   "cell_type": "code",
   "execution_count": null,
   "metadata": {},
   "outputs": [],
   "source": []
  },
  {
   "cell_type": "code",
   "execution_count": null,
   "metadata": {},
   "outputs": [],
   "source": []
  },
  {
   "cell_type": "code",
   "execution_count": null,
   "metadata": {},
   "outputs": [],
   "source": []
  }
 ],
 "metadata": {
  "kernelspec": {
   "display_name": "Python 2",
   "language": "python",
   "name": "python2"
  },
  "language_info": {
   "codemirror_mode": {
    "name": "ipython",
    "version": 3
   },
   "file_extension": ".py",
   "mimetype": "text/x-python",
   "name": "python",
   "nbconvert_exporter": "python",
   "pygments_lexer": "ipython3",
   "version": "3.6.5"
  }
 },
 "nbformat": 4,
 "nbformat_minor": 2
}
